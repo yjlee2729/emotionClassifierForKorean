{
 "cells": [
  {
   "cell_type": "code",
   "execution_count": 6,
   "metadata": {
    "collapsed": true
   },
   "outputs": [],
   "source": [
    "import os\n",
    "import csv\n",
    "\n",
    "dataDir = 'data/movieReview/raw'\n",
    "targetDir = 'data/movieReview/formmated'\n",
    "allFileNames = os.listdir(dataDir)\n",
    "\n",
    "filePaths = []\n",
    "targetPaths = []\n",
    "\n",
    "if not os.path.exists(targetDir):\n",
    "    os.makedirs(targetDir)\n",
    "\n",
    "for fname in allFileNames:\n",
    "    if fname[0] != '.':\n",
    "        filePaths.append(os.path.join(dataDir, fname))\n",
    "        targetPaths.append(os.path.join(targetDir, fname.replace('.txt','.csv')))\n",
    "        \n",
    "for i in range(0,len(filePaths)):\n",
    "\n",
    "    with open(filePaths[i], mode='r', encoding='utf-8') as fr:\n",
    "        data_array = []\n",
    "\n",
    "        for a in fr:\n",
    "            if a[-1] == \")\":\n",
    "                a = a[1:-1]\n",
    "            else:    \n",
    "                a = a[1:-2]+'\\n'\n",
    "            data_array.append(a)\n",
    "    \n",
    "    with open(targetPaths[i], mode='w', encoding='utf-8') as fw:\n",
    "        for data in data_array:\n",
    "            fw.write(data)\n",
    "        fw.close()"
   ]
  },
  {
   "cell_type": "code",
   "execution_count": null,
   "metadata": {
    "collapsed": true
   },
   "outputs": [],
   "source": []
  }
 ],
 "metadata": {
  "kernelspec": {
   "display_name": "Python 3",
   "language": "python",
   "name": "python3"
  },
  "language_info": {
   "codemirror_mode": {
    "name": "ipython",
    "version": 3
   },
   "file_extension": ".py",
   "mimetype": "text/x-python",
   "name": "python",
   "nbconvert_exporter": "python",
   "pygments_lexer": "ipython3",
   "version": "3.5.5"
  }
 },
 "nbformat": 4,
 "nbformat_minor": 2
}
